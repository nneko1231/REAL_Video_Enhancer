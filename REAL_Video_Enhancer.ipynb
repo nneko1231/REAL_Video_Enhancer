{
  "nbformat": 4,
  "nbformat_minor": 0,
  "metadata": {
    "colab": {
      "provenance": [],
      "gpuType": "T4",
      "authorship_tag": "ABX9TyPoW8me7cA/L0CnADlcPFWm",
      "include_colab_link": true
    },
    "kernelspec": {
      "name": "python3",
      "display_name": "Python 3"
    },
    "language_info": {
      "name": "python"
    },
    "accelerator": "GPU"
  },
  "cells": [
    {
      "cell_type": "markdown",
      "metadata": {
        "id": "view-in-github",
        "colab_type": "text"
      },
      "source": [
        "<a href=\"https://colab.research.google.com/github/nneko1231/REAL_Video_Enhancer/blob/main/REAL_Video_Enhancer.ipynb\" target=\"_parent\"><img src=\"https://colab.research.google.com/assets/colab-badge.svg\" alt=\"Open In Colab\"/></a>"
      ]
    },
    {
      "cell_type": "markdown",
      "source": [
        "# 1. Drive Mount"
      ],
      "metadata": {
        "id": "9b2SnuTnpj4N"
      }
    },
    {
      "cell_type": "code",
      "source": [
        "# will mount drive if MOUNT_DRIVE is True\n",
        "import os\n",
        "import subprocess\n",
        "import shutil\n",
        "from google.colab import drive, output\n",
        "\n",
        "# Add a parameter to control mounting Google Drive\n",
        "MOUNT_DRIVE = True  #@param {type:\"boolean\"}\n",
        "\n",
        "# mount drive if MOUNT_DRIVE is True\n",
        "if MOUNT_DRIVE:\n",
        "    drive.mount('/content/drive')"
      ],
      "metadata": {
        "cellView": "form",
        "id": "qmguu9UOp4WQ"
      },
      "execution_count": null,
      "outputs": []
    },
    {
      "cell_type": "markdown",
      "source": [
        "# 2.Settings"
      ],
      "metadata": {
        "id": "R5di57mppd1e"
      }
    },
    {
      "cell_type": "code",
      "source": [
        "# Input and Output file paths\n",
        "INPUT_FILE = \"input.mp4\"  #@param {type:\"string\"}\n",
        "OUTPUT_FILE = \"output.mkv\"  #@param {type:\"string\"}\n",
        "KILL_RUNTIME_AFTER_RENDER = True  #@param {type:\"boolean\"}\n",
        "\n",
        "#@markdown <hr>\n",
        "\n",
        "#@markdown ##Interpolate Settings\n",
        "INTERPOLATE = True  #@param {type:\"boolean\"}\n",
        "INTERPOLATE_FACTOR = 2  # @param {type:\"number\"}\n",
        "SCENE_DETECT_METHOD = \"pyscenedetect\"  #@param [\"pyscenedetect\", \"none\"]\n",
        "SCENE_DETECT_SENSATIVITY = 5  #@param {type:\"slider\", \"min\":0, \"max\":9.9, \"step\":0.1}\n",
        "\n",
        "\"\"\"\n",
        "#@markdown Interpolate Models:\n",
        "#@markdown - rife4.6.pkl : Speed\n",
        "#@markdown - rife4.7.pkl : Smoothness\n",
        "#@markdown - rife4.18.pkl : IRL\n",
        "#@markdown - rife4.22.pkl : Animation\n",
        "#@markdown - rife4.25.pkl : General\n",
        "#@markdown - GMFSS.pkl : Animation\n",
        "#@markdown - GMFSS_PRO.pkl : Animation\n",
        "#@markdown - GIMMVFI_RAFT.pth : IRL\n",
        "\"\"\"\n",
        "INTERPOLATE_MODEL = \"rife4.25.pkl\"  #@param [\"rife4.6.pkl\", \"rife4.7.pkl\", \"rife4.18.pkl\", \"rife4.22.pkl\", \"rife4.25.pkl\", \"GMFSS.pkl\", \"GMFSS_PRO.pkl\", \"GIMMVFI_RAFT.pth\"]\n",
        "\n",
        "#@markdown <hr>\n",
        "\n",
        "#@markdown ##Upscaling settings\n",
        "UPSCALE = False  #@param {type:\"boolean\"}\n",
        "\n",
        "\"\"\"\n",
        "#@markdown ##Select Upscale Models\n",
        "#@markdown Upscale Models:\n",
        "#@markdown - 4xNomos8k_span_otf_weak.pth : Realistic 4x High Quality Input\n",
        "#@markdown - 4xNomos8k_span_otf_medium.pth : Realistic 4x Medium Quality Input\n",
        "#@markdown - 4xNomos8k_span_otf_strong.pth : Realistic 4x Low Quality Input\n",
        "#@markdown - 2x_BHI_SpanPlusDynamic_Light.pth : Realistic 2x High Quality Input (pytorch only, experimental)\n",
        "#@markdown - 2x_ModernSpanimationV2.pth : Animation 2x\n",
        "#@markdown - 2x_ModernSpanimationV3.pth : Animation 2x (pytorch only, experimental)\n",
        "#@markdown - 2x_AnimeJaNai_V2_Compact_36k.pth : Animation 2x\n",
        "#@markdown - 2x_AnimeJaNai_HD_V3_Sharp1_Compact_430k.pth : Animation 2x\n",
        "#@markdown - up2x-latest-conservative.pth : Animation 2x (pytorch only, slow)\n",
        "#@markdown - up3x-latest-conservative.pth : Animation 3x (pytorch only, slow)\n",
        "#@markdown - up4x-latest-conservative.pth : Animation 4x (pytorch only, slow)\n",
        "\"\"\"\n",
        "UPSCALE_MODEL = \"2x_ModernSpanimationV2.pth\"  #@param [\"4xNomos8k_span_otf_weak.pth\", \"4xNomos8k_span_otf_medium.pth\", \"4xNomos8k_span_otf_strong.pth\", \"2x_BHI_SpanPlusDynamic_Light.pth\", \"2x_ModernSpanimationV2.pth\", \"2x_ModernSpanimationV3.pth\", \"2x_AnimeJaNai_V2_Compact_36k.pth\", \"2x_AnimeJaNai_HD_V3_Sharp1_Compact_430k.pth\", \"up2x-latest-conservative.pth\", \"up3x-latest-conservative.pth\", \"up4x-latest-conservative.pth\"]\n",
        "\n",
        "#@markdown <hr>\n",
        "\n",
        "#@markdown ##Encoder settings\n",
        "VIDEO_ENCODER = \"x264_nvenc\"  #@param [\"libx264\", \"libx265\", \"vp9\", \"av1\", \"prores\", \"ffv1\", \"x264_vulkan\", \"x264_nvenc\", \"x265_nvenc\"]\n",
        "AUDIO_ENCODER = \"copy_audio\"  #@param [\"aac\", \"libmp3lame\", \"opus\", \"copy_audio\"]\n",
        "SUBTITLE_ENCODER = \"copy_subtitle\"  #@param [\"srt\", \"ass\", \"webvtt\", \"copy_subtitle\"]\n",
        "\n",
        "#@markdown <hr>\n",
        "\n",
        "#@markdown ##Backend choice\n",
        "BACKEND = \"pytorch\"  #@param [\"pytorch\", \"tensorrt\"]\n"
      ],
      "metadata": {
        "id": "f-69FTWTgkQC",
        "cellView": "form"
      },
      "execution_count": null,
      "outputs": []
    },
    {
      "cell_type": "markdown",
      "source": [
        "# 3. Install Requirement"
      ],
      "metadata": {
        "id": "Q1P2y0CuqZrs"
      }
    },
    {
      "cell_type": "code",
      "source": [
        "!rm -rf real-video-enhancer/\n",
        "!git clone https://github.com/tntwise/real-video-enhancer --branch 2.2.1"
      ],
      "metadata": {
        "id": "sKzecnchrZ96"
      },
      "execution_count": null,
      "outputs": []
    },
    {
      "cell_type": "code",
      "source": [
        "!mkdir real-video-enhancer/models/\n",
        "origdir = os.getcwd()\n",
        "os.chdir(\"real-video-enhancer/models/\")\n",
        "\n",
        "\n",
        "def has_model(model: str):\n",
        "    return model and model.lower() != \"none\"\n",
        "\n",
        "def download_model(model: str):\n",
        "    os.system(f\"wget https://github.com/TNTwise/real-video-enhancer-models/releases/download/models/{model}\")\n",
        "\n",
        "# get interpolate model by extracting the end of the link\n",
        "def download_external_model(model_link : str):\n",
        "        download_model(model_link)\n",
        "        model = model_link.split(r'/')[-1]\n",
        "        return model\n",
        "\n",
        "\n",
        "if INTERPOLATE:\n",
        "    if \"https\" in INTERPOLATE_MODEL:\n",
        "        UPSCALE_MODEL = download_external_model(INTERPOLATE_MODEL, \"interpolate\")\n",
        "    else:\n",
        "        download_model(INTERPOLATE_MODEL)\n",
        "if UPSCALE:\n",
        "    if \"https\" in UPSCALE_MODEL:\n",
        "        UPSCALE_MODEL = download_external_model(UPSCALE_MODEL, \"upscale\")\n",
        "    else:\n",
        "        download_model(UPSCALE_MODEL)\n",
        "\n",
        "\n",
        "os.chdir(origdir)\n",
        "\n"
      ],
      "metadata": {
        "id": "5B2qT9YTrbwi"
      },
      "execution_count": null,
      "outputs": []
    },
    {
      "cell_type": "code",
      "source": [
        "if BACKEND.lower() == 'tensorrt':\n",
        "    !wget https://github.com/astral-sh/python-build-standalone/releases/download/20250317/cpython-3.12.9+20250317-x86_64-unknown-linux-gnu-install_only.tar.gz\n",
        "    !tar xvf cpython-3.12.9+20250317-x86_64-unknown-linux-gnu-install_only.tar.gz\n",
        "    !./python/bin/python3 -m pip install  --extra-index-url https://download.pytorch.org/whl/cu126 -r real-video-enhancer/backend/requirements.txt # only install if using tensorrt\n",
        "\n",
        "!mkdir bin/ && cd bin && wget https://github.com/TNTwise/real-video-enhancer-models/releases/download/ffmpeg-colab/ffmpeg && chmod +x ffmpeg"
      ],
      "metadata": {
        "id": "Afivql9UreY6"
      },
      "execution_count": null,
      "outputs": []
    },
    {
      "cell_type": "markdown",
      "source": [
        "# 4. Run"
      ],
      "metadata": {
        "id": "K_BqD01LrjrD"
      }
    },
    {
      "cell_type": "code",
      "source": [
        "def build_backend_command() -> str:\n",
        "    command = (('python3 real-video-enhancer/backend/rve-backend.py' if BACKEND == \"pytorch\" else './python/bin/python3 real-video-enhancer/backend/rve-backend.py')\n",
        "               + f' -i \"{INPUT_FILE}\"'\n",
        "               + f' -o \"{OUTPUT_FILE}\"'\n",
        "               + f' -b {BACKEND} '\n",
        "               + f' --video_encoder_preset {VIDEO_ENCODER} '\n",
        "               + f' --audio_encoder_preset {AUDIO_ENCODER} '\n",
        "               + f' --subtitle_encoder_preset {SUBTITLE_ENCODER}')\n",
        "    if UPSCALE_MODEL and UPSCALE:\n",
        "        command += f\" --upscale_model real-video-enhancer/models/{UPSCALE_MODEL} \"\n",
        "    if INTERPOLATE_MODEL and INTERPOLATE:\n",
        "        command += f\" --interpolate_model real-video-enhancer/models/{INTERPOLATE_MODEL} \"\n",
        "        command += f\" --interpolate_factor {INTERPOLATE_FACTOR} \"\n",
        "        command += f\" --scene_detect_method {SCENE_DETECT_METHOD} \"\n",
        "        command += f\" --scene_detect_threshold {SCENE_DETECT_SENSATIVITY} \"\n",
        "\n",
        "    return command\n",
        "\n",
        "# Write the command to a shell script\n",
        "with open(\"command.sh\", \"w\") as f:\n",
        "    f.write(build_backend_command())\n",
        "\n",
        "# Run the command from the shell script\n",
        "!bash command.sh\n",
        "\n",
        "# Remove the command.sh file after execution\n",
        "import os\n",
        "os.remove(\"command.sh\")\n"
      ],
      "metadata": {
        "id": "tuYOxArGrtMN"
      },
      "execution_count": null,
      "outputs": []
    },
    {
      "cell_type": "markdown",
      "source": [
        "# 5. Auto Kill"
      ],
      "metadata": {
        "id": "1lUqfenrr0d2"
      }
    },
    {
      "cell_type": "code",
      "source": [
        "# Source file path in Colab\n",
        "source_path = f'/content/{OUTPUT_FILE}'\n",
        "\n",
        "# Destination path on Google Drive (root directory)\n",
        "destination_path = f'/content/drive/My Drive/RVE/{OUTPUT_FILE}'\n",
        "if not os.path.exists(os.path.dirname(destination_path)):\n",
        "  os.mkdir(os.path.dirname(destination_path))\n",
        "\n",
        "# Move the file\n",
        "try:\n",
        "  shutil.copy(source_path, destination_path)\n",
        "except Exception as e:\n",
        "  print(f\"Copying to drive failed! {e}\\nPlease download any files that have correctly rendered before terminating the runtime!.\")\n",
        "  input(\"Press enter to terminate the runtime.\")\n",
        "\n",
        "  output.eval_js('google.colab.kernel.disconnect()')\n",
        "  os.kill(os.getpid(), 9)\n",
        "\n",
        "if KILL_RUNTIME_AFTER_RENDER:\n",
        "\n",
        "  # kill the runtime\n",
        "  output.eval_js('google.colab.kernel.disconnect()')\n",
        "  os.kill(os.getpid(), 9)"
      ],
      "metadata": {
        "id": "VH9n_A5hr3Fd"
      },
      "execution_count": null,
      "outputs": []
    }
  ]
}